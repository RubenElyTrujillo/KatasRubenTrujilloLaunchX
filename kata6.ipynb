{
 "cells": [
  {
   "cell_type": "code",
   "execution_count": 4,
   "metadata": {},
   "outputs": [
    {
     "name": "stdout",
     "output_type": "stream",
     "text": [
      "El numero de planetas es 8\n",
      "El ultimo planera es Pluton\n"
     ]
    }
   ],
   "source": [
    "planets = ['Mercurio', 'Venus', 'Tierra', 'Marte', 'Jupiter', 'Saturno', 'Urano', 'Neptunp']\n",
    "\n",
    "print(f\"El numero de planetas es {len(planets)}\")\n",
    "\n",
    "planets.append('Pluton')\n",
    "\n",
    "print(f\"El ultimo planera es {planets[-1]}\")"
   ]
  },
  {
   "cell_type": "code",
   "execution_count": 5,
   "metadata": {},
   "outputs": [
    {
     "name": "stdout",
     "output_type": "stream",
     "text": [
      "The planets closer to Mars are:\n",
      "['Mercury', 'Venus', 'Earth']\n",
      "The planets further to Mars are:\n",
      "['Jupiter', 'Saturn', 'Neptune']\n"
     ]
    }
   ],
   "source": [
    "planets = ['Mercury', 'Venus', 'Earth', 'Mars', 'Jupiter', 'Saturn', 'Neptune']\n",
    "\n",
    "new_planet = input(\"Enter the name of a planet, starting with capital letter: \")\n",
    "\n",
    "planet_in_list = planets.index(new_planet)\n",
    "\n",
    "print('The planets closer to ' + new_planet + ' are:')\n",
    "print(planets[0:planet_in_list])\n",
    "\n",
    "print('The planets further to ' + new_planet + ' are:')\n",
    "print(planets[planet_in_list+1:])"
   ]
  }
 ],
 "metadata": {
  "interpreter": {
   "hash": "820db6b6f3ca0d58463784e816f2250997873e92874b90949528cfee4a3c0897"
  },
  "kernelspec": {
   "display_name": "Python 3.10.2 64-bit (windows store)",
   "language": "python",
   "name": "python3"
  },
  "language_info": {
   "codemirror_mode": {
    "name": "ipython",
    "version": 3
   },
   "file_extension": ".py",
   "mimetype": "text/x-python",
   "name": "python",
   "nbconvert_exporter": "python",
   "pygments_lexer": "ipython3",
   "version": "3.10.2"
  },
  "orig_nbformat": 4
 },
 "nbformat": 4,
 "nbformat_minor": 2
}

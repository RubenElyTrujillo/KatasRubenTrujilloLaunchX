{
 "cells": [
  {
   "cell_type": "markdown",
   "metadata": {},
   "source": [
    "# Ejercico 1"
   ]
  },
  {
   "cell_type": "code",
   "execution_count": 1,
   "metadata": {},
   "outputs": [],
   "source": [
    "def combustible(tanque1, tanque2, tanque3):\n",
    "    promedio = (tanque1 + tanque2 + tanque3) / 3\n",
    "    return promedio"
   ]
  },
  {
   "cell_type": "code",
   "execution_count": 2,
   "metadata": {},
   "outputs": [
    {
     "data": {
      "text/plain": [
       "20.0"
      ]
     },
     "execution_count": 2,
     "metadata": {},
     "output_type": "execute_result"
    }
   ],
   "source": [
    "combustible(10, 20, 30)"
   ]
  },
  {
   "cell_type": "code",
   "execution_count": 3,
   "metadata": {},
   "outputs": [],
   "source": [
    "def promedio(x, y, z):\n",
    "    promedio = (x + y + z) / 3\n",
    "    return promedio"
   ]
  },
  {
   "cell_type": "code",
   "execution_count": 4,
   "metadata": {},
   "outputs": [],
   "source": [
    "def combustible(tanque1, tanque2, tanque3):\n",
    "    promedio(tanque1, tanque2, tanque3)"
   ]
  },
  {
   "cell_type": "markdown",
   "metadata": {},
   "source": [
    "# Ejercicio 2"
   ]
  },
  {
   "cell_type": "code",
   "execution_count": 5,
   "metadata": {},
   "outputs": [
    {
     "name": "stdout",
     "output_type": "stream",
     "text": [
      "\n",
      "    Misión a Marte\n",
      "    Tiempo Total de Vuelo: 55 minutos\n",
      "    Combustible disponible: 85000 galones\n",
      "    \n"
     ]
    }
   ],
   "source": [
    "def informe_mision(tiempo_prelanzamiento, tiempo_vuelo, destino, tanque_externo, tanque_interno):\n",
    "    return f\"\"\"\n",
    "    Misión a {destino}\n",
    "    Tiempo Total de Vuelo: {tiempo_prelanzamiento + tiempo_vuelo} minutos\n",
    "    Combustible disponible: {tanque_externo + tanque_interno} galones\n",
    "    \"\"\"\n",
    "\n",
    "print(informe_mision(15, 40, \"Marte\", 50000, 35000))"
   ]
  },
  {
   "cell_type": "code",
   "execution_count": 6,
   "metadata": {},
   "outputs": [
    {
     "name": "stdout",
     "output_type": "stream",
     "text": [
      "\n",
      "    Misión a Marte\n",
      "    Tiempo Total de Vuelo: 25 minutos\n",
      "    Combustible disponible: 500000\n",
      "    \n"
     ]
    }
   ],
   "source": [
    "def informe_mision(destino, *minutos, **combustible):\n",
    "    return f\"\"\"\n",
    "    Misión a {destino}\n",
    "    Tiempo Total de Vuelo: {sum(minutos)} minutos\n",
    "    Combustible disponible: {sum(combustible.values())}\n",
    "    \"\"\"\n",
    "\n",
    "print(informe_mision(\"Marte\", 10, 15, interno=200000, externo=300000))"
   ]
  },
  {
   "cell_type": "code",
   "execution_count": 7,
   "metadata": {},
   "outputs": [
    {
     "name": "stdout",
     "output_type": "stream",
     "text": [
      "\n",
      "    Misión a Marte\n",
      "    Tiempo Total de Vuelo: 19 minutos\n",
      "    Combustible disponible: 500000\n",
      "    tanque interno --> 200000 galones restantes\n",
      "\ttanque externo --> 300000 galones restantes\n",
      "\t\n"
     ]
    }
   ],
   "source": [
    "def informe_mision(destino, *minutos, **combustible):\n",
    "    reporte_principal = f\"\"\"\n",
    "    Misión a {destino}\n",
    "    Tiempo Total de Vuelo: {sum(minutos)} minutos\n",
    "    Combustible disponible: {sum(combustible.values())}\n",
    "    \"\"\"\n",
    "    for tanque, galones in combustible.items():\n",
    "        reporte_principal += f\"tanque {tanque} --> {galones} galones restantes\\n\\t\"\n",
    "    return reporte_principal\n",
    "\n",
    "print(informe_mision(\"Marte\", 8, 11, interno=200000, externo=300000))"
   ]
  }
 ],
 "metadata": {
  "interpreter": {
   "hash": "820db6b6f3ca0d58463784e816f2250997873e92874b90949528cfee4a3c0897"
  },
  "kernelspec": {
   "display_name": "Python 3.10.2 64-bit (windows store)",
   "language": "python",
   "name": "python3"
  },
  "language_info": {
   "codemirror_mode": {
    "name": "ipython",
    "version": 3
   },
   "file_extension": ".py",
   "mimetype": "text/x-python",
   "name": "python",
   "nbconvert_exporter": "python",
   "pygments_lexer": "ipython3",
   "version": "3.10.2"
  },
  "orig_nbformat": 4
 },
 "nbformat": 4,
 "nbformat_minor": 2
}
